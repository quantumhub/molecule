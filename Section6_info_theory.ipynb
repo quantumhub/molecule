{
 "cells": [
  {
   "cell_type": "code",
   "execution_count": 1,
   "metadata": {},
   "outputs": [
    {
     "name": "stdout",
     "output_type": "stream",
     "text": [
      "1.5\n"
     ]
    }
   ],
   "source": [
    "# 6 Information theory\n",
    "import numpy as np\n",
    "\n",
    "def entropy(Ps1):\n",
    "    Ps1=Ps1[Ps1!=0]\n",
    "    return -(Ps1*np.log2(Ps1)).sum()\n",
    "\n",
    "Ps1=np.array([0.5,0.25,0.25])\n",
    "Entropy1=entropy(Ps1)\n",
    "print(Entropy1)"
   ]
  },
  {
   "cell_type": "code",
   "execution_count": 2,
   "metadata": {},
   "outputs": [
    {
     "name": "stdout",
     "output_type": "stream",
     "text": [
      "1.584962500721156\n"
     ]
    }
   ],
   "source": [
    "# The discrete distribution with maximum entropy is the uniform distribution\n",
    "Ps_balanced=np.ones(3)/3\n",
    "Entropy_balanced=entropy(Ps_balanced)\n",
    "print(Entropy_balanced)"
   ]
  },
  {
   "cell_type": "code",
   "execution_count": 3,
   "metadata": {},
   "outputs": [
    {
     "name": "stdout",
     "output_type": "stream",
     "text": [
      "-0.0\n",
      "0.09079313589591118\n"
     ]
    }
   ],
   "source": [
    "# Conversely, the distribution with minimum entropy (which is zero) is any delta-function that puts all\n",
    "# its mass on one state. Such a distribution has no uncertainty.\n",
    "Ps_Constant=np.array([1,0,0])\n",
    "Ps_Constant=entropy(Ps_Constant)\n",
    "print(Ps_Constant)\n",
    "\n",
    "Ps_ExtremelyUnbalanced=np.array([0.99,0.005,0.005])\n",
    "Entropy_ExtremelyUnbalanced=entropy(Ps_ExtremelyUnbalanced)\n",
    "print(Entropy_ExtremelyUnbalanced)"
   ]
  },
  {
   "cell_type": "code",
   "execution_count": 4,
   "metadata": {},
   "outputs": [
    {
     "name": "stdout",
     "output_type": "stream",
     "text": [
      "1.0\n",
      "1.811278124459133\n"
     ]
    }
   ],
   "source": [
    "#6.1.3 Joint entropy\n",
    "\n",
    "print(entropy(np.array([0.5,0.5])))\n",
    "\n",
    "print(entropy(np.array([1/8,1/8,3/8,3/8])))"
   ]
  },
  {
   "cell_type": "code",
   "execution_count": 6,
   "metadata": {},
   "outputs": [
    {
     "name": "stdout",
     "output_type": "stream",
     "text": [
      "[2 3 5 7]\n"
     ]
    }
   ],
   "source": [
    "def primesfrom2to(n):\n",
    "    # http://stackoverflow.com/questions/2068372/fastest-way-to-list-all-primes-below-n-in-python/3035188#3035188\n",
    "    \"\"\" Input n>=6, Returns a array of primes, 2 <= p < n \"\"\"\n",
    "    sieve = np.ones(n//3 + (n%6==2), dtype=np.bool)\n",
    "    sieve[0] = False\n",
    "    for i in range(int(n**0.5)//3+1):\n",
    "        if sieve[i]:\n",
    "            k=3*i+1|1\n",
    "            sieve[      ((k*k)//3)      ::2*k] = False\n",
    "            sieve[(k*k+4*k-2*k*(i&1))//3::2*k] = False\n",
    "    return np.r_[2,3,((3*np.nonzero(sieve)[0]+1)|1)]\n",
    "\n",
    "# generate 100.000 random integers from 1 to 1.000.000.000\n",
    "a1 = np.arange(1,9)\n",
    "# generate all primes that are equal or less than a1.max() \n",
    "primes = primesfrom2to(a1.max())\n",
    "\n",
    "# print result    \n",
    "print(np.intersect1d(primes, a1))\n"
   ]
  },
  {
   "cell_type": "code",
   "execution_count": 10,
   "metadata": {},
   "outputs": [
    {
     "name": "stdout",
     "output_type": "stream",
     "text": [
      "[0 1 0 1 0 1 0 1] [False  True  True False  True False  True False]\n"
     ]
    }
   ],
   "source": [
    "X=np.mod(a1+1,2)\n",
    "Y=np.in1d(a1,primes)\n",
    "print(X,Y)"
   ]
  },
  {
   "cell_type": "markdown",
   "metadata": {},
   "source": [
    "#Conditional entropy\n",
    "\n",
    "\\$H(Y|X)= E_{p(X)} [H (p(Y|X))]$\n",
    "\n"
   ]
  },
  {
   "cell_type": "code",
   "execution_count": 14,
   "metadata": {},
   "outputs": [
    {
     "data": {
      "text/plain": [
       "[<matplotlib.lines.Line2D at 0x176012b3ac0>]"
      ]
     },
     "execution_count": 14,
     "metadata": {},
     "output_type": "execute_result"
    },
    {
     "data": {
      "image/png": "[encoded data removed]",
      "text/plain": [
       "<Figure size 432x288 with 1 Axes>"
      ]
     },
     "metadata": {
      "needs_background": "light"
     },
     "output_type": "display_data"
    }
   ],
   "source": [
    "import matplotlib.pyplot as plt\n",
    "\n",
    "X2_var=np.arange(0.5,5,0.01)\n",
    "plt.plot(X2_var,np.log(X2_var)+1/2/X2_var**2-0.5)"
   ]
  },
  {
   "cell_type": "code",
   "execution_count": null,
   "metadata": {},
   "outputs": [],
   "source": []
  }
 ],
 "metadata": {
  "kernelspec": {
   "display_name": "Python 3",
   "language": "python",
   "name": "python3"
  },
  "language_info": {
   "codemirror_mode": {
    "name": "ipython",
    "version": 3
   },
   "file_extension": ".py",
   "mimetype": "text/x-python",
   "name": "python",
   "nbconvert_exporter": "python",
   "pygments_lexer": "ipython3",
   "version": "3.8.5"
  }
 },
 "nbformat": 4,
 "nbformat_minor": 4
}
